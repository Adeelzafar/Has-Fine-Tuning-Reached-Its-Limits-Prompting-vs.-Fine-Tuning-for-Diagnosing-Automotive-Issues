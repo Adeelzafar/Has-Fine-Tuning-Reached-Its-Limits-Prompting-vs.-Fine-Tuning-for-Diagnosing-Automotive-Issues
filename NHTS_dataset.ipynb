{
 "cells": [
  {
   "cell_type": "code",
   "execution_count": 17,
   "id": "7aeb59c7-ae68-4baf-a330-6e1a4943e77c",
   "metadata": {},
   "outputs": [],
   "source": [
    "import torch\n",
    "import gc\n",
    "\n",
    "# Run garbage collection\n",
    "gc.collect()\n",
    "\n",
    "# Empty MPS cache\n",
    "if torch.backends.mps.is_available():\n",
    "    torch.mps.empty_cache()\n"
   ]
  },
  {
   "cell_type": "code",
   "execution_count": 19,
   "id": "1a2fc958-d6ef-4fac-80de-f977d9807ec2",
   "metadata": {},
   "outputs": [],
   "source": [
    "import torch\n",
    "from transformers import AutoTokenizer, AutoModelForCausalLM\n",
    "import pandas as pd\n",
    "\n",
    "# Load model and tokenizer\n",
    "model_name = \"HuggingFaceTB/SmolLM2-1.7B-Instruct\"\n",
    "tokenizer = AutoTokenizer.from_pretrained(model_name)\n",
    "model = AutoModelForCausalLM.from_pretrained(model_name, torch_dtype=torch.float16, device_map=\"auto\")"
   ]
  },
  {
   "cell_type": "code",
   "execution_count": 20,
   "id": "6931ecde-6579-4392-9871-0edc0f5d9754",
   "metadata": {},
   "outputs": [],
   "source": [
    "import pandas as pd\n",
    "\n",
    "# Load the file with tab separator and skip bad lines\n",
    "df = pd.read_csv(\"FLAT_CMPL.txt\", sep=\"\\t\", header=None, engine=\"python\", on_bad_lines=\"skip\")\n",
    "\n",
    "# Rename relevant columns\n",
    "df = df[[11, 19]]\n",
    "df.columns = [\"COMPDESC\", \"CDESCR\"]\n",
    "\n"
   ]
  },
  {
   "cell_type": "code",
   "execution_count": 22,
   "id": "321c0806-8d04-4853-9df0-afe1efcf35dd",
   "metadata": {},
   "outputs": [
    {
     "data": {
      "text/html": [
       "<div>\n",
       "<style scoped>\n",
       "    .dataframe tbody tr th:only-of-type {\n",
       "        vertical-align: middle;\n",
       "    }\n",
       "\n",
       "    .dataframe tbody tr th {\n",
       "        vertical-align: top;\n",
       "    }\n",
       "\n",
       "    .dataframe thead th {\n",
       "        text-align: right;\n",
       "    }\n",
       "</style>\n",
       "<table border=\"1\" class=\"dataframe\">\n",
       "  <thead>\n",
       "    <tr style=\"text-align: right;\">\n",
       "      <th></th>\n",
       "      <th>COMPDESC</th>\n",
       "      <th>CDESCR</th>\n",
       "    </tr>\n",
       "  </thead>\n",
       "  <tbody>\n",
       "    <tr>\n",
       "      <th>0</th>\n",
       "      <td>ENGINE AND ENGINE COOLING:COOLING SYSTEM:RADIA...</td>\n",
       "      <td>RADIATOR FAILED @ HIGHWAY SPEED OBSTRUCTING DR...</td>\n",
       "    </tr>\n",
       "    <tr>\n",
       "      <th>1</th>\n",
       "      <td>FUEL SYSTEM, GASOLINE:DELIVERY</td>\n",
       "      <td>FUEL LEAKED FROM FUEL TANK AREA, EMITTING STRO...</td>\n",
       "    </tr>\n",
       "    <tr>\n",
       "      <th>2</th>\n",
       "      <td>POWER TRAIN:AUTOMATIC TRANSMISSION</td>\n",
       "      <td>SHIFTED INTO REVERSE VEHICLE JERKED VIOLENTLY....</td>\n",
       "    </tr>\n",
       "    <tr>\n",
       "      <th>3</th>\n",
       "      <td>FUEL SYSTEM, GASOLINE:STORAGE:TANK ASSEMBLY</td>\n",
       "      <td>FUEL TANK ; LEAKS BECAUSE OF RUST GAS LEAK BY ...</td>\n",
       "    </tr>\n",
       "    <tr>\n",
       "      <th>4</th>\n",
       "      <td>SEATS</td>\n",
       "      <td>DRIVER SIDE SEAT FRAME BROKE IN TWO, CAUSING S...</td>\n",
       "    </tr>\n",
       "  </tbody>\n",
       "</table>\n",
       "</div>"
      ],
      "text/plain": [
       "                                            COMPDESC  \\\n",
       "0  ENGINE AND ENGINE COOLING:COOLING SYSTEM:RADIA...   \n",
       "1                     FUEL SYSTEM, GASOLINE:DELIVERY   \n",
       "2                 POWER TRAIN:AUTOMATIC TRANSMISSION   \n",
       "3        FUEL SYSTEM, GASOLINE:STORAGE:TANK ASSEMBLY   \n",
       "4                                              SEATS   \n",
       "\n",
       "                                              CDESCR  \n",
       "0  RADIATOR FAILED @ HIGHWAY SPEED OBSTRUCTING DR...  \n",
       "1  FUEL LEAKED FROM FUEL TANK AREA, EMITTING STRO...  \n",
       "2  SHIFTED INTO REVERSE VEHICLE JERKED VIOLENTLY....  \n",
       "3  FUEL TANK ; LEAKS BECAUSE OF RUST GAS LEAK BY ...  \n",
       "4  DRIVER SIDE SEAT FRAME BROKE IN TWO, CAUSING S...  "
      ]
     },
     "execution_count": 22,
     "metadata": {},
     "output_type": "execute_result"
    }
   ],
   "source": [
    "df.head()"
   ]
  },
  {
   "cell_type": "code",
   "execution_count": 25,
   "id": "af5117ce-3a6b-4c4f-8227-951fef27013f",
   "metadata": {},
   "outputs": [
    {
     "name": "stdout",
     "output_type": "stream",
     "text": [
      "                  COMPDESC                                             CDESCR\n",
      "22                AIR BAGS  UPON IMPACT, DURING FRONTAL CRASH AT APPROX. 1...\n",
      "65                  WHEELS  RIGHT FRONT WHEEL LOCKED UP VEHICLE WENT INTO ...\n",
      "154               AIR BAGS  DRIVER AND PASSENGER AIRBAG DID NOT DEPLOY IN ...\n",
      "228                 WHEELS  WHEEL CRACKED ON RIGHT FRONT WHEEL WHILE DRIVI...\n",
      "310                 WHEELS                     WHEELS SKID WHEN BRAKING.  *AK\n",
      "...                    ...                                                ...\n",
      "1681978             WHEELS  I TOOK MY TRUCK INTO THE DEALERSHIP FOR SERVIC...\n",
      "1681979           AIR BAGS  I KEEP RECEIVING SAFETY RECALL LETTERS ABOUT T...\n",
      "1681984  ELECTRICAL SYSTEM  SO FROM THE START I BOUGHT THE CAR $5000 CASH ...\n",
      "1681992  ELECTRICAL SYSTEM  THE CAR CAUGHT ON FIRE, STARTING IN THE ROOF. ...\n",
      "1681998           AIR BAGS  I BOUGHT THE CAR IN APRIL.2020, THE AIR BAG WA...\n",
      "\n",
      "[293318 rows x 2 columns]\n"
     ]
    }
   ],
   "source": [
    "import pandas as pd\n",
    "\n",
    "# Your target categories\n",
    "target_categories = [\n",
    "    'ELECTRICAL SYSTEM',\n",
    "    'AIR BAGS',\n",
    "    'WHEELS',\n",
    "    'ENGINE AND ENGINE COOLING',\n",
    "    'STRUCTURE'\n",
    "]\n",
    "\n",
    "# Filter df to keep only rows where COMPDESC is in target_categories\n",
    "filtered_df = df[df['COMPDESC'].isin(target_categories)]\n",
    "\n",
    "# Display or use the filtered dataframe\n",
    "print(filtered_df)\n"
   ]
  },
  {
   "cell_type": "code",
   "execution_count": 27,
   "id": "76298548-4372-43fe-9d11-743436aa3dd9",
   "metadata": {},
   "outputs": [
    {
     "data": {
      "text/html": [
       "<div>\n",
       "<style scoped>\n",
       "    .dataframe tbody tr th:only-of-type {\n",
       "        vertical-align: middle;\n",
       "    }\n",
       "\n",
       "    .dataframe tbody tr th {\n",
       "        vertical-align: top;\n",
       "    }\n",
       "\n",
       "    .dataframe thead th {\n",
       "        text-align: right;\n",
       "    }\n",
       "</style>\n",
       "<table border=\"1\" class=\"dataframe\">\n",
       "  <thead>\n",
       "    <tr style=\"text-align: right;\">\n",
       "      <th></th>\n",
       "      <th>COMPDESC</th>\n",
       "      <th>CDESCR</th>\n",
       "    </tr>\n",
       "  </thead>\n",
       "  <tbody>\n",
       "    <tr>\n",
       "      <th>22</th>\n",
       "      <td>AIR BAGS</td>\n",
       "      <td>UPON IMPACT, DURING FRONTAL CRASH AT APPROX. 1...</td>\n",
       "    </tr>\n",
       "    <tr>\n",
       "      <th>65</th>\n",
       "      <td>WHEELS</td>\n",
       "      <td>RIGHT FRONT WHEEL LOCKED UP VEHICLE WENT INTO ...</td>\n",
       "    </tr>\n",
       "    <tr>\n",
       "      <th>154</th>\n",
       "      <td>AIR BAGS</td>\n",
       "      <td>DRIVER AND PASSENGER AIRBAG DID NOT DEPLOY IN ...</td>\n",
       "    </tr>\n",
       "    <tr>\n",
       "      <th>228</th>\n",
       "      <td>WHEELS</td>\n",
       "      <td>WHEEL CRACKED ON RIGHT FRONT WHEEL WHILE DRIVI...</td>\n",
       "    </tr>\n",
       "    <tr>\n",
       "      <th>310</th>\n",
       "      <td>WHEELS</td>\n",
       "      <td>WHEELS SKID WHEN BRAKING.  *AK</td>\n",
       "    </tr>\n",
       "  </tbody>\n",
       "</table>\n",
       "</div>"
      ],
      "text/plain": [
       "     COMPDESC                                             CDESCR\n",
       "22   AIR BAGS  UPON IMPACT, DURING FRONTAL CRASH AT APPROX. 1...\n",
       "65     WHEELS  RIGHT FRONT WHEEL LOCKED UP VEHICLE WENT INTO ...\n",
       "154  AIR BAGS  DRIVER AND PASSENGER AIRBAG DID NOT DEPLOY IN ...\n",
       "228    WHEELS  WHEEL CRACKED ON RIGHT FRONT WHEEL WHILE DRIVI...\n",
       "310    WHEELS                     WHEELS SKID WHEN BRAKING.  *AK"
      ]
     },
     "execution_count": 27,
     "metadata": {},
     "output_type": "execute_result"
    }
   ],
   "source": [
    "filtered_df.head()"
   ]
  },
  {
   "cell_type": "code",
   "execution_count": 29,
   "id": "ef031ce0-421d-4590-8b88-1b62a0dc83c6",
   "metadata": {},
   "outputs": [
    {
     "name": "stderr",
     "output_type": "stream",
     "text": [
      "/var/folders/hx/q1s4c6ws0dn84_dnnjvs7skc0000gp/T/ipykernel_64212/83180464.py:11: SettingWithCopyWarning: \n",
      "A value is trying to be set on a copy of a slice from a DataFrame.\n",
      "Try using .loc[row_indexer,col_indexer] = value instead\n",
      "\n",
      "See the caveats in the documentation: https://pandas.pydata.org/pandas-docs/stable/user_guide/indexing.html#returning-a-view-versus-a-copy\n",
      "  filtered_df['Category_Label'] = filtered_df['COMPDESC'].map(category_to_label)\n"
     ]
    }
   ],
   "source": [
    "# Define the mapping for your categories to labels\n",
    "category_to_label = {\n",
    "    'ELECTRICAL SYSTEM': 1,\n",
    "    'AIR BAGS': 2,\n",
    "    'WHEELS': 3,\n",
    "    'ENGINE AND ENGINE COOLING': 4,\n",
    "    'STRUCTURE': 5\n",
    "}\n",
    "\n",
    "# Apply the mapping to filtered_df to create a new column 'Category_Label'\n",
    "filtered_df['Category_Label'] = filtered_df['COMPDESC'].map(category_to_label)\n",
    "\n"
   ]
  },
  {
   "cell_type": "code",
   "execution_count": 31,
   "id": "77571476-0784-4a87-8ecc-dd7ef801908b",
   "metadata": {},
   "outputs": [
    {
     "data": {
      "text/html": [
       "<div>\n",
       "<style scoped>\n",
       "    .dataframe tbody tr th:only-of-type {\n",
       "        vertical-align: middle;\n",
       "    }\n",
       "\n",
       "    .dataframe tbody tr th {\n",
       "        vertical-align: top;\n",
       "    }\n",
       "\n",
       "    .dataframe thead th {\n",
       "        text-align: right;\n",
       "    }\n",
       "</style>\n",
       "<table border=\"1\" class=\"dataframe\">\n",
       "  <thead>\n",
       "    <tr style=\"text-align: right;\">\n",
       "      <th></th>\n",
       "      <th>COMPDESC</th>\n",
       "      <th>CDESCR</th>\n",
       "      <th>Category_Label</th>\n",
       "    </tr>\n",
       "  </thead>\n",
       "  <tbody>\n",
       "    <tr>\n",
       "      <th>22</th>\n",
       "      <td>AIR BAGS</td>\n",
       "      <td>UPON IMPACT, DURING FRONTAL CRASH AT APPROX. 1...</td>\n",
       "      <td>2</td>\n",
       "    </tr>\n",
       "    <tr>\n",
       "      <th>65</th>\n",
       "      <td>WHEELS</td>\n",
       "      <td>RIGHT FRONT WHEEL LOCKED UP VEHICLE WENT INTO ...</td>\n",
       "      <td>3</td>\n",
       "    </tr>\n",
       "    <tr>\n",
       "      <th>154</th>\n",
       "      <td>AIR BAGS</td>\n",
       "      <td>DRIVER AND PASSENGER AIRBAG DID NOT DEPLOY IN ...</td>\n",
       "      <td>2</td>\n",
       "    </tr>\n",
       "    <tr>\n",
       "      <th>228</th>\n",
       "      <td>WHEELS</td>\n",
       "      <td>WHEEL CRACKED ON RIGHT FRONT WHEEL WHILE DRIVI...</td>\n",
       "      <td>3</td>\n",
       "    </tr>\n",
       "    <tr>\n",
       "      <th>310</th>\n",
       "      <td>WHEELS</td>\n",
       "      <td>WHEELS SKID WHEN BRAKING.  *AK</td>\n",
       "      <td>3</td>\n",
       "    </tr>\n",
       "  </tbody>\n",
       "</table>\n",
       "</div>"
      ],
      "text/plain": [
       "     COMPDESC                                             CDESCR  \\\n",
       "22   AIR BAGS  UPON IMPACT, DURING FRONTAL CRASH AT APPROX. 1...   \n",
       "65     WHEELS  RIGHT FRONT WHEEL LOCKED UP VEHICLE WENT INTO ...   \n",
       "154  AIR BAGS  DRIVER AND PASSENGER AIRBAG DID NOT DEPLOY IN ...   \n",
       "228    WHEELS  WHEEL CRACKED ON RIGHT FRONT WHEEL WHILE DRIVI...   \n",
       "310    WHEELS                     WHEELS SKID WHEN BRAKING.  *AK   \n",
       "\n",
       "     Category_Label  \n",
       "22                2  \n",
       "65                3  \n",
       "154               2  \n",
       "228               3  \n",
       "310               3  "
      ]
     },
     "execution_count": 31,
     "metadata": {},
     "output_type": "execute_result"
    }
   ],
   "source": [
    "filtered_df.head()"
   ]
  },
  {
   "cell_type": "code",
   "execution_count": 169,
   "id": "391c649f-9d6c-434b-b7bb-2e41b63de3a0",
   "metadata": {},
   "outputs": [
    {
     "data": {
      "text/plain": [
       "(293318, 3)"
      ]
     },
     "execution_count": 169,
     "metadata": {},
     "output_type": "execute_result"
    }
   ],
   "source": [
    "filtered_df.shape"
   ]
  },
  {
   "cell_type": "code",
   "execution_count": 33,
   "id": "10018215-1598-4c28-91bf-3b0b29b16b66",
   "metadata": {},
   "outputs": [
    {
     "name": "stderr",
     "output_type": "stream",
     "text": [
      "huggingface/tokenizers: The current process just got forked, after parallelism has already been used. Disabling parallelism to avoid deadlocks...\n",
      "To disable this warning, you can either:\n",
      "\t- Avoid using `tokenizers` before the fork if possible\n",
      "\t- Explicitly set the environment variable TOKENIZERS_PARALLELISM=(true | false)\n",
      "/var/folders/hx/q1s4c6ws0dn84_dnnjvs7skc0000gp/T/ipykernel_64212/2471000386.py:9: FutureWarning: \n",
      "\n",
      "Passing `palette` without assigning `hue` is deprecated and will be removed in v0.14.0. Assign the `x` variable to `hue` and set `legend=False` for the same effect.\n",
      "\n",
      "  sns.countplot(data=filtered_df, x='Category_Label', palette='viridis')\n"
     ]
    },
    {
     "data": {
      "image/png": "[encoded data removed]",
      "text/plain": [
       "<Figure size 800x500 with 1 Axes>"
      ]
     },
     "metadata": {},
     "output_type": "display_data"
    }
   ],
   "source": [
    "import matplotlib.pyplot as plt\n",
    "import seaborn as sns\n",
    "\n",
    "# Set plot style\n",
    "sns.set(style=\"whitegrid\")\n",
    "\n",
    "# Plot the count of each category label\n",
    "plt.figure(figsize=(8, 5))\n",
    "sns.countplot(data=filtered_df, x='Category_Label', palette='viridis')\n",
    "\n",
    "# Customize plot labels and title\n",
    "plt.xlabel('Category Label')\n",
    "plt.ylabel('Number of Records')\n",
    "plt.title('Class Distribution in Filtered DataFrame')\n",
    "plt.xticks(ticks=[0,1,2,3,4], labels=['1','2','3','4','5'])  # optional if you want numeric labels\n",
    "plt.show()\n"
   ]
  },
  {
   "cell_type": "code",
   "execution_count": 141,
   "id": "302baa05-0d7d-44e4-bf2d-33311c2430f1",
   "metadata": {},
   "outputs": [],
   "source": [
    "def classify_complaint(text):\n",
    "    prompt = f'''Human: You are an expert field quality engineer who have to classify \n",
    "    descriptions of car failures into specific categories based on detailed descriptions of symptoms and failures. \n",
    "    Please analyze the <complaint> described below and classify it by returning only the appropriate <category> label.\n",
    "    Complaint : \"{text}\" You must choose only from the following categories: \n",
    "    − 1: ’ELECTRICAL SYSTEM: Problems related to wiring, battery, power windows, fuses.’\n",
    "    − 2: ’AIR BAGS: Complaints involving non-deployment, or unexpected deployment of air bags.’\n",
    "    − 3: ’WHEELS: Complaints about wheel cracks, front wheel, RIGHT FRONT WHEEL LOCKED UP, tires, rims, cracking, balancing, or alignment problems.’\n",
    "    − 4: ’ENGINE AND ENGINE COOLING: Problems such as overheating, temperature guage failed,INACCURATE TEMPERATURE READINGS, stalling, rough idling, or check engine lights.’ \n",
    "    − 5: ’STRUCTURE: Complaints about the body, doors, windows, roof, or frame.’ \n",
    "    Choose the most relevant category based on the complaint described. Return only the category label. Nothing else is required.\n",
    "    Assistant: '''\n",
    "    \n",
    "    # Encode the prompt\n",
    "    inputs = tokenizer(prompt, return_tensors=\"pt\").to(model.device)\n",
    "\n",
    "    # Generate output tokens\n",
    "    outputs = model.generate(**inputs, max_new_tokens=20, do_sample=False)\n",
    "\n",
    "    # Decode generated tokens, skip the prompt part\n",
    "    response = tokenizer.decode(outputs[0][inputs['input_ids'].shape[-1]:], skip_special_tokens=True).strip()\n",
    "\n",
    "    # Return the predicted category label\n",
    "    return response\n",
    "\n"
   ]
  },
  {
   "cell_type": "code",
   "execution_count": 147,
   "id": "426835ad-7fcb-45b4-bc11-20f5d240c123",
   "metadata": {},
   "outputs": [
    {
     "name": "stdout",
     "output_type": "stream",
     "text": [
      "Predicted category: 3\n"
     ]
    }
   ],
   "source": [
    "# Example usage:\n",
    "example_text = \"HOLE IN ALUMINUM WHEEL CAST, CAUSING LOSS OF AIR IN TIRES.\"\n",
    "predicted_category = classify_complaint(example_text)\n",
    "print(f\"Predicted category: {predicted_category}\")"
   ]
  },
  {
   "cell_type": "code",
   "execution_count": 145,
   "id": "d51f5555-e306-4bc8-ad95-55ced3679043",
   "metadata": {},
   "outputs": [
    {
     "data": {
      "text/plain": [
       "'HOLE IN ALUMINUM WHEEL CAST, CAUSING LOSS OF AIR IN TIRES.   *AK'"
      ]
     },
     "execution_count": 145,
     "metadata": {},
     "output_type": "execute_result"
    }
   ],
   "source": [
    "sample_df['CDESCR'][6172]"
   ]
  },
  {
   "cell_type": "code",
   "execution_count": 149,
   "id": "3f1a0535-417c-4402-8020-96449ba59aeb",
   "metadata": {},
   "outputs": [
    {
     "name": "stdout",
     "output_type": "stream",
     "text": [
      "                                                 CDESCR  Category_Label  \\\n",
      "22    UPON IMPACT, DURING FRONTAL CRASH AT APPROX. 1...               2   \n",
      "65    RIGHT FRONT WHEEL LOCKED UP VEHICLE WENT INTO ...               3   \n",
      "154   DRIVER AND PASSENGER AIRBAG DID NOT DEPLOY IN ...               2   \n",
      "228   WHEEL CRACKED ON RIGHT FRONT WHEEL WHILE DRIVI...               3   \n",
      "310                      WHEELS SKID WHEN BRAKING.  *AK               3   \n",
      "...                                                 ...             ...   \n",
      "5961  TEMERATURE GAUGE FAILED, SHOWED INACCURATE TEM...               4   \n",
      "6020  NO DEPLOYMENT OF DRIVER'S AIRBAG DURING ACCIDE...               2   \n",
      "6074  FALSE DEPLOYMENT OF DRIVER'S/PASSENGER'S AIRBA...               2   \n",
      "6155                               ELECTRICAL PROBLEMS.               1   \n",
      "6172  HOLE IN ALUMINUM WHEEL CAST, CAUSING LOSS OF A...               3   \n",
      "\n",
      "     predicted_category  \n",
      "22                    2  \n",
      "65                    1  \n",
      "154                   2  \n",
      "228                   3  \n",
      "310                   3  \n",
      "...                 ...  \n",
      "5961                  1  \n",
      "6020                  2  \n",
      "6074                  2  \n",
      "6155                  1  \n",
      "6172                  2  \n",
      "\n",
      "[100 rows x 3 columns]\n"
     ]
    }
   ],
   "source": [
    "\n",
    "sample_df = filtered_df.head(10000).copy()\n",
    "\n",
    "# Run prediction and keep ground truth\n",
    "sample_df['predicted_category'] = sample_df['CDESCR'].apply(classify_complaint)\n",
    "\n",
    "# Show sample with complaint, ground truth, and prediction\n",
    "print(sample_df[['CDESCR', 'Category_Label', 'predicted_category']].head(100))"
   ]
  },
  {
   "cell_type": "code",
   "execution_count": null,
   "id": "bd8136c5-13a8-472a-852d-4362c3b89853",
   "metadata": {},
   "outputs": [
    {
     "data": {
      "text/html": [
       "<div>\n",
       "<style scoped>\n",
       "    .dataframe tbody tr th:only-of-type {\n",
       "        vertical-align: middle;\n",
       "    }\n",
       "\n",
       "    .dataframe tbody tr th {\n",
       "        vertical-align: top;\n",
       "    }\n",
       "\n",
       "    .dataframe thead th {\n",
       "        text-align: right;\n",
       "    }\n",
       "</style>\n",
       "<table border=\"1\" class=\"dataframe\">\n",
       "  <thead>\n",
       "    <tr style=\"text-align: right;\">\n",
       "      <th></th>\n",
       "      <th>COMPDESC</th>\n",
       "      <th>CDESCR</th>\n",
       "      <th>Category_Label</th>\n",
       "      <th>predicted_category</th>\n",
       "    </tr>\n",
       "  </thead>\n",
       "  <tbody>\n",
       "    <tr>\n",
       "      <th>22</th>\n",
       "      <td>AIR BAGS</td>\n",
       "      <td>UPON IMPACT, DURING FRONTAL CRASH AT APPROX. 1...</td>\n",
       "      <td>2</td>\n",
       "      <td>2</td>\n",
       "    </tr>\n",
       "    <tr>\n",
       "      <th>65</th>\n",
       "      <td>WHEELS</td>\n",
       "      <td>RIGHT FRONT WHEEL LOCKED UP VEHICLE WENT INTO ...</td>\n",
       "      <td>3</td>\n",
       "      <td>1</td>\n",
       "    </tr>\n",
       "    <tr>\n",
       "      <th>154</th>\n",
       "      <td>AIR BAGS</td>\n",
       "      <td>DRIVER AND PASSENGER AIRBAG DID NOT DEPLOY IN ...</td>\n",
       "      <td>2</td>\n",
       "      <td>2</td>\n",
       "    </tr>\n",
       "    <tr>\n",
       "      <th>228</th>\n",
       "      <td>WHEELS</td>\n",
       "      <td>WHEEL CRACKED ON RIGHT FRONT WHEEL WHILE DRIVI...</td>\n",
       "      <td>3</td>\n",
       "      <td>3</td>\n",
       "    </tr>\n",
       "    <tr>\n",
       "      <th>310</th>\n",
       "      <td>WHEELS</td>\n",
       "      <td>WHEELS SKID WHEN BRAKING.  *AK</td>\n",
       "      <td>3</td>\n",
       "      <td>3</td>\n",
       "    </tr>\n",
       "  </tbody>\n",
       "</table>\n",
       "</div>"
      ],
      "text/plain": [
       "     COMPDESC                                             CDESCR  \\\n",
       "22   AIR BAGS  UPON IMPACT, DURING FRONTAL CRASH AT APPROX. 1...   \n",
       "65     WHEELS  RIGHT FRONT WHEEL LOCKED UP VEHICLE WENT INTO ...   \n",
       "154  AIR BAGS  DRIVER AND PASSENGER AIRBAG DID NOT DEPLOY IN ...   \n",
       "228    WHEELS  WHEEL CRACKED ON RIGHT FRONT WHEEL WHILE DRIVI...   \n",
       "310    WHEELS                     WHEELS SKID WHEN BRAKING.  *AK   \n",
       "\n",
       "     Category_Label predicted_category  \n",
       "22                2                  2  \n",
       "65                3                  1  \n",
       "154               2                  2  \n",
       "228               3                  3  \n",
       "310               3                  3  "
      ]
     },
     "execution_count": 150,
     "metadata": {},
     "output_type": "execute_result"
    }
   ],
   "source": [
    "sample_df.head()"
   ]
  },
  {
   "cell_type": "code",
   "execution_count": null,
   "id": "5a69bf48-b398-48c8-aa56-8ea74ab44f19",
   "metadata": {},
   "outputs": [
    {
     "name": "stdout",
     "output_type": "stream",
     "text": [
      "              precision    recall  f1-score   support\n",
      "\n",
      "           1       0.48      0.51      0.49      2150\n",
      "           2       0.82      0.69      0.75      4836\n",
      "           3       0.86      0.45      0.59      1259\n",
      "           4       0.26      0.32      0.28       698\n",
      "           5       0.15      0.07      0.09      1057\n",
      "\n",
      "   micro avg       0.63      0.53      0.58     10000\n",
      "   macro avg       0.51      0.41      0.44     10000\n",
      "weighted avg       0.64      0.53      0.57     10000\n",
      "\n"
     ]
    }
   ],
   "source": [
    "from sklearn.metrics import classification_report\n",
    "\n",
    "# Ensure all labels are strings and strip whitespace\n",
    "sample_df['Category_Label'] = sample_df['Category_Label'].astype(str).str.strip()\n",
    "sample_df['predicted_category'] = sample_df['predicted_category'].astype(str).str.strip()\n",
    "\n",
    "# Generate classification report\n",
    "report = classification_report(\n",
    "    sample_df['Category_Label'],\n",
    "    sample_df['predicted_category'],\n",
    "    labels=[\n",
    "        '1',\n",
    "        '2',\n",
    "        '3',\n",
    "        '4',\n",
    "        '5'\n",
    "    ],\n",
    "    zero_division=0\n",
    ")\n",
    "\n",
    "print(report)\n"
   ]
  },
  {
   "cell_type": "code",
   "execution_count": 153,
   "id": "581c3e73-bf63-4a99-911d-1e33f5e421c8",
   "metadata": {},
   "outputs": [
    {
     "name": "stdout",
     "output_type": "stream",
     "text": [
      "Predicted category: ELECTRICAL SYSTEM\n"
     ]
    }
   ],
   "source": [
    "from transformers import AutoTokenizer, AutoModelForSeq2SeqLM\n",
    "import torch\n",
    "\n",
    "# Load small Flan-T5 model and tokenizer\n",
    "model_name = \"google/flan-t5-small\"\n",
    "tokenizer = AutoTokenizer.from_pretrained(model_name)\n",
    "model = AutoModelForSeq2SeqLM.from_pretrained(model_name)\n",
    "\n",
    "\n"
   ]
  },
  {
   "cell_type": "code",
   "execution_count": 157,
   "id": "141b6a46-e209-403f-9051-27d7c9f3304f",
   "metadata": {},
   "outputs": [
    {
     "name": "stdout",
     "output_type": "stream",
     "text": [
      "Predicted category: 4\n"
     ]
    }
   ],
   "source": [
    "def classify_complaint(text):\n",
    "    prompt = f'''Human: You are an expert field quality engineer who have to classify \n",
    "    descriptions of car failures into specific categories based on detailed descriptions of symptoms and failures. \n",
    "    Please analyze the <complaint> described below and classify it by returning only the appropriate <category> label.\n",
    "    Complaint : \"{text}\" You must choose only from the following categories: \n",
    "    − 1: ’ELECTRICAL SYSTEM: Problems related to wiring, battery, power windows, fuses.’\n",
    "    − 2: ’AIR BAGS: Complaints involving non-deployment, or unexpected deployment of air bags.’\n",
    "    − 3: ’WHEELS: Complaints about wheel cracks, front wheel, RIGHT FRONT WHEEL LOCKED UP, tires, rims, cracking, balancing, or alignment problems.’\n",
    "    − 4: ’ENGINE AND ENGINE COOLING: Problems such as overheating, temperature guage failed,INACCURATE TEMPERATURE READINGS, stalling, rough idling, or check engine lights.’ \n",
    "    − 5: ’STRUCTURE: Complaints about the body, doors, windows, roof, or frame.’ \n",
    "    Choose the most relevant category based on the complaint described. Return only the category label. Nothing else is required.\n",
    "    Assistant: '''\n",
    "    \n",
    "    inputs = tokenizer(prompt, return_tensors=\"pt\")\n",
    "    outputs = model.generate(**inputs, max_length=20)\n",
    "    prediction = tokenizer.decode(outputs[0], skip_special_tokens=True)\n",
    "    return prediction.strip()\n",
    "\n",
    "# Example usage\n",
    "example_text = \"HOLE IN ALUMINUM WHEEL CAST, CAUSING LOSS OF AIR IN TIRES. \"\n",
    "predicted_category = classify_complaint(example_text)\n",
    "print(f\"Predicted category: {predicted_category}\")"
   ]
  },
  {
   "cell_type": "code",
   "execution_count": 165,
   "id": "c741636e-8d43-40fc-8598-8a57c4286755",
   "metadata": {},
   "outputs": [
    {
     "data": {
      "application/vnd.jupyter.widget-view+json": {
       "model_id": "fc8794d61fcd419589aea28362b0dc01",
       "version_major": 2,
       "version_minor": 0
      },
      "text/plain": [
       "Map:   0%|          | 0/234643 [00:00<?, ? examples/s]"
      ]
     },
     "metadata": {},
     "output_type": "display_data"
    },
    {
     "data": {
      "application/vnd.jupyter.widget-view+json": {
       "model_id": "78ffa809fa5143a5b631921cfa6721ad",
       "version_major": 2,
       "version_minor": 0
      },
      "text/plain": [
       "Map:   0%|          | 0/58661 [00:00<?, ? examples/s]"
      ]
     },
     "metadata": {},
     "output_type": "display_data"
    },
    {
     "data": {
      "application/vnd.jupyter.widget-view+json": {
       "model_id": "c368c756f745485b8f2eb94963d22305",
       "version_major": 2,
       "version_minor": 0
      },
      "text/plain": [
       "model.safetensors:   0%|          | 0.00/440M [00:00<?, ?B/s]"
      ]
     },
     "metadata": {},
     "output_type": "display_data"
    },
    {
     "name": "stderr",
     "output_type": "stream",
     "text": [
      "Some weights of BertForSequenceClassification were not initialized from the model checkpoint at bert-base-uncased and are newly initialized: ['classifier.bias', 'classifier.weight']\n",
      "You should probably TRAIN this model on a down-stream task to be able to use it for predictions and inference.\n",
      "/opt/anaconda3/lib/python3.12/site-packages/transformers/training_args.py:1594: FutureWarning: `evaluation_strategy` is deprecated and will be removed in version 4.46 of 🤗 Transformers. Use `eval_strategy` instead\n",
      "  warnings.warn(\n"
     ]
    },
    {
     "data": {
      "text/html": [
       "\n",
       "    <div>\n",
       "      \n",
       "      <progress value='58664' max='58664' style='width:300px; height:20px; vertical-align: middle;'></progress>\n",
       "      [58664/58664 102:54:18, Epoch 4/4]\n",
       "    </div>\n",
       "    <table border=\"1\" class=\"dataframe\">\n",
       "  <thead>\n",
       " <tr style=\"text-align: left;\">\n",
       "      <th>Epoch</th>\n",
       "      <th>Training Loss</th>\n",
       "      <th>Validation Loss</th>\n",
       "      <th>Accuracy</th>\n",
       "      <th>F1</th>\n",
       "      <th>Precision</th>\n",
       "      <th>Recall</th>\n",
       "    </tr>\n",
       "  </thead>\n",
       "  <tbody>\n",
       "    <tr>\n",
       "      <td>1</td>\n",
       "      <td>0.337500</td>\n",
       "      <td>0.351963</td>\n",
       "      <td>0.874056</td>\n",
       "      <td>0.874604</td>\n",
       "      <td>0.876714</td>\n",
       "      <td>0.874056</td>\n",
       "    </tr>\n",
       "    <tr>\n",
       "      <td>2</td>\n",
       "      <td>0.316200</td>\n",
       "      <td>0.333750</td>\n",
       "      <td>0.880721</td>\n",
       "      <td>0.879799</td>\n",
       "      <td>0.880401</td>\n",
       "      <td>0.880721</td>\n",
       "    </tr>\n",
       "    <tr>\n",
       "      <td>3</td>\n",
       "      <td>0.286800</td>\n",
       "      <td>0.350189</td>\n",
       "      <td>0.878539</td>\n",
       "      <td>0.878422</td>\n",
       "      <td>0.878849</td>\n",
       "      <td>0.878539</td>\n",
       "    </tr>\n",
       "    <tr>\n",
       "      <td>4</td>\n",
       "      <td>0.230200</td>\n",
       "      <td>0.412975</td>\n",
       "      <td>0.874789</td>\n",
       "      <td>0.874500</td>\n",
       "      <td>0.874444</td>\n",
       "      <td>0.874789</td>\n",
       "    </tr>\n",
       "  </tbody>\n",
       "</table><p>"
      ],
      "text/plain": [
       "<IPython.core.display.HTML object>"
      ]
     },
     "metadata": {},
     "output_type": "display_data"
    },
    {
     "data": {
      "text/html": [],
      "text/plain": [
       "<IPython.core.display.HTML object>"
      ]
     },
     "metadata": {},
     "output_type": "display_data"
    },
    {
     "name": "stdout",
     "output_type": "stream",
     "text": [
      "                           precision    recall  f1-score   support\n",
      "\n",
      "        ELECTRICAL SYSTEM       0.87      0.91      0.89     24799\n",
      "                 AIR BAGS       0.93      0.93      0.93     21305\n",
      "                   WHEELS       0.89      0.78      0.83      2940\n",
      "ENGINE AND ENGINE COOLING       0.80      0.70      0.75      6269\n",
      "                STRUCTURE       0.76      0.81      0.78      3348\n",
      "\n",
      "                 accuracy                           0.88     58661\n",
      "                macro avg       0.85      0.82      0.84     58661\n",
      "             weighted avg       0.88      0.88      0.88     58661\n",
      "\n"
     ]
    }
   ],
   "source": [
    "import pandas as pd\n",
    "from sklearn.model_selection import train_test_split\n",
    "from datasets import Dataset\n",
    "from transformers import AutoTokenizer, AutoModelForSequenceClassification, TrainingArguments, Trainer\n",
    "import numpy as np\n",
    "import torch\n",
    "from sklearn.metrics import classification_report\n",
    "\n",
    "# Load your filtered dataframe\n",
    "# Make sure 'CDESCR' is text and 'Category_Label' is int (0–4 or 1–5)\n",
    "df = filtered_df.copy()\n",
    "df = df.dropna(subset=[\"CDESCR\"])\n",
    "df[\"CDESCR\"] = df[\"CDESCR\"].astype(str)\n",
    "df[\"Category_Label\"] = df[\"Category_Label\"].astype(int) - 1  # convert to 0-based labels\n",
    "\n",
    "# Split into train/test\n",
    "train_df, test_df = train_test_split(df, test_size=0.2, random_state=42, stratify=df[\"Category_Label\"])\n",
    "\n",
    "# Convert to Hugging Face dataset\n",
    "train_dataset = Dataset.from_pandas(train_df[[\"CDESCR\", \"Category_Label\"]])\n",
    "test_dataset = Dataset.from_pandas(test_df[[\"CDESCR\", \"Category_Label\"]])\n",
    "\n",
    "# Load tokenizer and model\n",
    "model_name = \"bert-base-uncased\"\n",
    "tokenizer = AutoTokenizer.from_pretrained(model_name)\n",
    "\n",
    "# Tokenization\n",
    "def tokenize(batch):\n",
    "    return tokenizer(batch[\"CDESCR\"], padding=\"max_length\", truncation=True, max_length=128)\n",
    "\n",
    "train_dataset = train_dataset.map(tokenize, batched=True)\n",
    "test_dataset = test_dataset.map(tokenize, batched=True)\n",
    "\n",
    "# Rename label column\n",
    "train_dataset = train_dataset.rename_column(\"Category_Label\", \"labels\")\n",
    "test_dataset = test_dataset.rename_column(\"Category_Label\", \"labels\")\n",
    "\n",
    "# Set format for PyTorch\n",
    "train_dataset.set_format(\"torch\", columns=[\"input_ids\", \"attention_mask\", \"labels\"])\n",
    "test_dataset.set_format(\"torch\", columns=[\"input_ids\", \"attention_mask\", \"labels\"])\n",
    "\n",
    "# Load model\n",
    "num_labels = df[\"Category_Label\"].nunique()\n",
    "model = AutoModelForSequenceClassification.from_pretrained(model_name, num_labels=num_labels)\n",
    "\n",
    "# Define metrics\n",
    "from sklearn.metrics import accuracy_score, precision_recall_fscore_support\n",
    "\n",
    "def compute_metrics(p):\n",
    "    preds = np.argmax(p.predictions, axis=1)\n",
    "    labels = p.label_ids\n",
    "    precision, recall, f1, _ = precision_recall_fscore_support(labels, preds, average=\"weighted\")\n",
    "    acc = accuracy_score(labels, preds)\n",
    "    return {\"accuracy\": acc, \"f1\": f1, \"precision\": precision, \"recall\": recall}\n",
    "\n",
    "# Training arguments\n",
    "training_args = TrainingArguments(\n",
    "    output_dir=\"./bert_classification\",\n",
    "    evaluation_strategy=\"epoch\",\n",
    "    save_strategy=\"epoch\",\n",
    "    logging_dir=\"./logs\",\n",
    "    per_device_train_batch_size=16,\n",
    "    per_device_eval_batch_size=16,\n",
    "    num_train_epochs=4,\n",
    "    weight_decay=0.01,\n",
    "    load_best_model_at_end=True,\n",
    ")\n",
    "\n",
    "# Trainer\n",
    "trainer = Trainer(\n",
    "    model=model,\n",
    "    args=training_args,\n",
    "    train_dataset=train_dataset,\n",
    "    eval_dataset=test_dataset,\n",
    "    compute_metrics=compute_metrics,\n",
    ")\n",
    "\n",
    "# Train the model\n",
    "trainer.train()\n",
    "\n",
    "# Evaluate\n",
    "preds = trainer.predict(test_dataset)\n",
    "pred_labels = np.argmax(preds.predictions, axis=1)\n",
    "true_labels = preds.label_ids\n",
    "\n",
    "# Classification report\n",
    "print(classification_report(true_labels, pred_labels, target_names=[\n",
    "    \"ELECTRICAL SYSTEM\", \"AIR BAGS\", \"WHEELS\", \"ENGINE AND ENGINE COOLING\", \"STRUCTURE\"\n",
    "]))\n"
   ]
  },
  {
   "cell_type": "code",
   "execution_count": 167,
   "id": "c45b1373-8d91-414d-9832-9f708ba9b3ca",
   "metadata": {},
   "outputs": [
    {
     "data": {
      "image/png": "[encoded data removed]",
      "text/plain": [
       "<Figure size 800x500 with 1 Axes>"
      ]
     },
     "metadata": {},
     "output_type": "display_data"
    }
   ],
   "source": [
    "import matplotlib.pyplot as plt\n",
    "\n",
    "# Convert time to minutes\n",
    "inference_time_min = 7\n",
    "\n",
    "# Training time: 102 hours, 54 minutes, 18 seconds = total minutes\n",
    "training_hours, training_minutes, training_seconds = 102, 54, 18\n",
    "total_training_minutes = training_hours * 60 + training_minutes + training_seconds / 60\n",
    "\n",
    "# Line chart\n",
    "phases = ['Inference', 'Training (4 Epochs)']\n",
    "times = [inference_time_min, total_training_minutes]\n",
    "\n",
    "plt.figure(figsize=(8, 5))\n",
    "plt.plot(phases, times, marker='o', linestyle='-', color='royalblue', linewidth=2)\n",
    "\n",
    "plt.title('Comparison of Inference and Training Time')\n",
    "plt.ylabel('Time (minutes)')\n",
    "plt.grid(True)\n",
    "plt.tight_layout()\n",
    "\n",
    "# Annotate values\n",
    "for i, val in enumerate(times):\n",
    "    plt.text(i, val + 10, f\"{val:.1f} min\", ha='center', fontsize=10)\n",
    "\n",
    "plt.show()\n"
   ]
  },
  {
   "cell_type": "code",
   "execution_count": 173,
   "id": "f2db1a66-1f1b-4b24-8cb2-045d2212da1f",
   "metadata": {},
   "outputs": [
    {
     "data": {
      "application/vnd.jupyter.widget-view+json": {
       "model_id": "27d8de478f7243348a4d4cea307fa77d",
       "version_major": 2,
       "version_minor": 0
      },
      "text/plain": [
       "Map:   0%|          | 0/1600 [00:00<?, ? examples/s]"
      ]
     },
     "metadata": {},
     "output_type": "display_data"
    },
    {
     "data": {
      "application/vnd.jupyter.widget-view+json": {
       "model_id": "00db7641bf7a4470a4798c812bcb7fb3",
       "version_major": 2,
       "version_minor": 0
      },
      "text/plain": [
       "Map:   0%|          | 0/400 [00:00<?, ? examples/s]"
      ]
     },
     "metadata": {},
     "output_type": "display_data"
    },
    {
     "name": "stderr",
     "output_type": "stream",
     "text": [
      "Some weights of BertForSequenceClassification were not initialized from the model checkpoint at bert-base-uncased and are newly initialized: ['classifier.bias', 'classifier.weight']\n",
      "You should probably TRAIN this model on a down-stream task to be able to use it for predictions and inference.\n",
      "/opt/anaconda3/lib/python3.12/site-packages/transformers/training_args.py:1594: FutureWarning: `evaluation_strategy` is deprecated and will be removed in version 4.46 of 🤗 Transformers. Use `eval_strategy` instead\n",
      "  warnings.warn(\n"
     ]
    },
    {
     "data": {
      "text/html": [
       "\n",
       "    <div>\n",
       "      \n",
       "      <progress value='400' max='400' style='width:300px; height:20px; vertical-align: middle;'></progress>\n",
       "      [400/400 03:00, Epoch 4/4]\n",
       "    </div>\n",
       "    <table border=\"1\" class=\"dataframe\">\n",
       "  <thead>\n",
       " <tr style=\"text-align: left;\">\n",
       "      <th>Epoch</th>\n",
       "      <th>Training Loss</th>\n",
       "      <th>Validation Loss</th>\n",
       "      <th>Accuracy</th>\n",
       "      <th>F1</th>\n",
       "      <th>Precision</th>\n",
       "      <th>Recall</th>\n",
       "    </tr>\n",
       "  </thead>\n",
       "  <tbody>\n",
       "    <tr>\n",
       "      <td>1</td>\n",
       "      <td>No log</td>\n",
       "      <td>0.589590</td>\n",
       "      <td>0.777500</td>\n",
       "      <td>0.782658</td>\n",
       "      <td>0.817741</td>\n",
       "      <td>0.777500</td>\n",
       "    </tr>\n",
       "    <tr>\n",
       "      <td>2</td>\n",
       "      <td>No log</td>\n",
       "      <td>0.481745</td>\n",
       "      <td>0.840000</td>\n",
       "      <td>0.833735</td>\n",
       "      <td>0.834522</td>\n",
       "      <td>0.840000</td>\n",
       "    </tr>\n",
       "    <tr>\n",
       "      <td>3</td>\n",
       "      <td>No log</td>\n",
       "      <td>0.470466</td>\n",
       "      <td>0.860000</td>\n",
       "      <td>0.856746</td>\n",
       "      <td>0.860413</td>\n",
       "      <td>0.860000</td>\n",
       "    </tr>\n",
       "    <tr>\n",
       "      <td>4</td>\n",
       "      <td>No log</td>\n",
       "      <td>0.473030</td>\n",
       "      <td>0.870000</td>\n",
       "      <td>0.867645</td>\n",
       "      <td>0.868660</td>\n",
       "      <td>0.870000</td>\n",
       "    </tr>\n",
       "  </tbody>\n",
       "</table><p>"
      ],
      "text/plain": [
       "<IPython.core.display.HTML object>"
      ]
     },
     "metadata": {},
     "output_type": "display_data"
    },
    {
     "data": {
      "text/html": [],
      "text/plain": [
       "<IPython.core.display.HTML object>"
      ]
     },
     "metadata": {},
     "output_type": "display_data"
    },
    {
     "name": "stdout",
     "output_type": "stream",
     "text": [
      "                           precision    recall  f1-score   support\n",
      "\n",
      "        ELECTRICAL SYSTEM       0.82      0.92      0.87       169\n",
      "                 AIR BAGS       0.95      0.92      0.93       145\n",
      "                   WHEELS       0.83      0.75      0.79        20\n",
      "ENGINE AND ENGINE COOLING       0.73      0.56      0.63        43\n",
      "                STRUCTURE       0.89      0.70      0.78        23\n",
      "\n",
      "                 accuracy                           0.86       400\n",
      "                macro avg       0.84      0.77      0.80       400\n",
      "             weighted avg       0.86      0.86      0.86       400\n",
      "\n"
     ]
    }
   ],
   "source": [
    "import pandas as pd\n",
    "from sklearn.model_selection import train_test_split\n",
    "from datasets import Dataset\n",
    "from transformers import AutoTokenizer, AutoModelForSequenceClassification, TrainingArguments, Trainer\n",
    "import numpy as np\n",
    "import torch\n",
    "from sklearn.metrics import classification_report, accuracy_score, precision_recall_fscore_support\n",
    "\n",
    "# Load and preprocess your dataframe\n",
    "df = filtered_df.copy()\n",
    "df = df.dropna(subset=[\"CDESCR\"])\n",
    "df[\"CDESCR\"] = df[\"CDESCR\"].astype(str)\n",
    "df[\"Category_Label\"] = df[\"Category_Label\"].astype(int) - 1  # convert to 0-based labels\n",
    "\n",
    "# Limit dataset to 2000 examples, stratified by label to maintain balance\n",
    "df_sampled, _ = train_test_split(df, train_size=2000, stratify=df[\"Category_Label\"], random_state=42)\n",
    "\n",
    "# Split into train/test\n",
    "train_df, test_df = train_test_split(df_sampled, test_size=0.2, stratify=df_sampled[\"Category_Label\"], random_state=42)\n",
    "\n",
    "# Convert to Hugging Face dataset\n",
    "train_dataset = Dataset.from_pandas(train_df[[\"CDESCR\", \"Category_Label\"]])\n",
    "test_dataset = Dataset.from_pandas(test_df[[\"CDESCR\", \"Category_Label\"]])\n",
    "\n",
    "# Load tokenizer and model\n",
    "model_name = \"bert-base-uncased\"\n",
    "tokenizer = AutoTokenizer.from_pretrained(model_name)\n",
    "\n",
    "# Tokenization\n",
    "def tokenize(batch):\n",
    "    return tokenizer(batch[\"CDESCR\"], padding=\"max_length\", truncation=True, max_length=128)\n",
    "\n",
    "train_dataset = train_dataset.map(tokenize, batched=True)\n",
    "test_dataset = test_dataset.map(tokenize, batched=True)\n",
    "\n",
    "# Rename label column\n",
    "train_dataset = train_dataset.rename_column(\"Category_Label\", \"labels\")\n",
    "test_dataset = test_dataset.rename_column(\"Category_Label\", \"labels\")\n",
    "\n",
    "# Set format for PyTorch\n",
    "train_dataset.set_format(\"torch\", columns=[\"input_ids\", \"attention_mask\", \"labels\"])\n",
    "test_dataset.set_format(\"torch\", columns=[\"input_ids\", \"attention_mask\", \"labels\"])\n",
    "\n",
    "# Load model\n",
    "num_labels = df_sampled[\"Category_Label\"].nunique()\n",
    "model = AutoModelForSequenceClassification.from_pretrained(model_name, num_labels=num_labels)\n",
    "\n",
    "# Define metrics\n",
    "def compute_metrics(p):\n",
    "    preds = np.argmax(p.predictions, axis=1)\n",
    "    labels = p.label_ids\n",
    "    precision, recall, f1, _ = precision_recall_fscore_support(labels, preds, average=\"weighted\")\n",
    "    acc = accuracy_score(labels, preds)\n",
    "    return {\"accuracy\": acc, \"f1\": f1, \"precision\": precision, \"recall\": recall}\n",
    "\n",
    "# Training arguments\n",
    "training_args = TrainingArguments(\n",
    "    output_dir=\"./bert_classification_small\",\n",
    "    evaluation_strategy=\"epoch\",\n",
    "    save_strategy=\"epoch\",\n",
    "    logging_dir=\"./logs_small\",\n",
    "    per_device_train_batch_size=16,\n",
    "    per_device_eval_batch_size=16,\n",
    "    num_train_epochs=4,\n",
    "    weight_decay=0.01,\n",
    "    load_best_model_at_end=True,\n",
    ")\n",
    "\n",
    "# Trainer\n",
    "trainer = Trainer(\n",
    "    model=model,\n",
    "    args=training_args,\n",
    "    train_dataset=train_dataset,\n",
    "    eval_dataset=test_dataset,\n",
    "    compute_metrics=compute_metrics,\n",
    ")\n",
    "\n",
    "# Train the model\n",
    "trainer.train()\n",
    "\n",
    "# Evaluate\n",
    "preds = trainer.predict(test_dataset)\n",
    "pred_labels = np.argmax(preds.predictions, axis=1)\n",
    "true_labels = preds.label_ids\n",
    "\n",
    "# Classification report\n",
    "print(classification_report(true_labels, pred_labels, target_names=[\n",
    "    \"ELECTRICAL SYSTEM\", \"AIR BAGS\", \"WHEELS\", \"ENGINE AND ENGINE COOLING\", \"STRUCTURE\"\n",
    "]))\n"
   ]
  },
  {
   "cell_type": "code",
   "execution_count": 193,
   "id": "22f3b32d-e0d3-4278-8b86-11853c566076",
   "metadata": {},
   "outputs": [
    {
     "data": {
      "application/vnd.jupyter.widget-view+json": {
       "model_id": "a1068a822f4648a1872c705baeeb6178",
       "version_major": 2,
       "version_minor": 0
      },
      "text/plain": [
       "tokenizer_config.json:   0%|          | 0.00/42.0 [00:00<?, ?B/s]"
      ]
     },
     "metadata": {},
     "output_type": "display_data"
    },
    {
     "data": {
      "application/vnd.jupyter.widget-view+json": {
       "model_id": "1c0da003145c4d12a3869ee2dbde4f2a",
       "version_major": 2,
       "version_minor": 0
      },
      "text/plain": [
       "source.spm:   0%|          | 0.00/778k [00:00<?, ?B/s]"
      ]
     },
     "metadata": {},
     "output_type": "display_data"
    },
    {
     "data": {
      "application/vnd.jupyter.widget-view+json": {
       "model_id": "72b8227a6cbf461cbe2e91ccc41c7c94",
       "version_major": 2,
       "version_minor": 0
      },
      "text/plain": [
       "target.spm:   0%|          | 0.00/802k [00:00<?, ?B/s]"
      ]
     },
     "metadata": {},
     "output_type": "display_data"
    },
    {
     "data": {
      "application/vnd.jupyter.widget-view+json": {
       "model_id": "6437928379a542aca445a404455ded63",
       "version_major": 2,
       "version_minor": 0
      },
      "text/plain": [
       "vocab.json:   0%|          | 0.00/1.34M [00:00<?, ?B/s]"
      ]
     },
     "metadata": {},
     "output_type": "display_data"
    },
    {
     "data": {
      "application/vnd.jupyter.widget-view+json": {
       "model_id": "ad08d01a83f4429489cbaf86e0fb86ec",
       "version_major": 2,
       "version_minor": 0
      },
      "text/plain": [
       "config.json:   0%|          | 0.00/1.42k [00:00<?, ?B/s]"
      ]
     },
     "metadata": {},
     "output_type": "display_data"
    },
    {
     "name": "stderr",
     "output_type": "stream",
     "text": [
      "/opt/anaconda3/lib/python3.12/site-packages/transformers/models/marian/tokenization_marian.py:175: UserWarning: Recommended: pip install sacremoses.\n",
      "  warnings.warn(\"Recommended: pip install sacremoses.\")\n"
     ]
    },
    {
     "data": {
      "application/vnd.jupyter.widget-view+json": {
       "model_id": "671ea55c559b4ee08445bd289538558c",
       "version_major": 2,
       "version_minor": 0
      },
      "text/plain": [
       "pytorch_model.bin:   0%|          | 0.00/301M [00:00<?, ?B/s]"
      ]
     },
     "metadata": {},
     "output_type": "display_data"
    },
    {
     "data": {
      "application/vnd.jupyter.widget-view+json": {
       "model_id": "bab505464d83404fbb81ff767cab5092",
       "version_major": 2,
       "version_minor": 0
      },
      "text/plain": [
       "generation_config.json:   0%|          | 0.00/293 [00:00<?, ?B/s]"
      ]
     },
     "metadata": {},
     "output_type": "display_data"
    },
    {
     "data": {
      "application/vnd.jupyter.widget-view+json": {
       "model_id": "f00889bd587c40138ee05d9794109ec2",
       "version_major": 2,
       "version_minor": 0
      },
      "text/plain": [
       "tokenizer_config.json:   0%|          | 0.00/42.0 [00:00<?, ?B/s]"
      ]
     },
     "metadata": {},
     "output_type": "display_data"
    },
    {
     "data": {
      "application/vnd.jupyter.widget-view+json": {
       "model_id": "887b220a115341649c8e2e64a0177d10",
       "version_major": 2,
       "version_minor": 0
      },
      "text/plain": [
       "model.safetensors:   0%|          | 0.00/301M [00:00<?, ?B/s]"
      ]
     },
     "metadata": {},
     "output_type": "display_data"
    },
    {
     "data": {
      "application/vnd.jupyter.widget-view+json": {
       "model_id": "967f2eb0429f4849a35583534b80b6c0",
       "version_major": 2,
       "version_minor": 0
      },
      "text/plain": [
       "source.spm:   0%|          | 0.00/802k [00:00<?, ?B/s]"
      ]
     },
     "metadata": {},
     "output_type": "display_data"
    },
    {
     "data": {
      "application/vnd.jupyter.widget-view+json": {
       "model_id": "db23264ca2484cdaa48d8ab427ab864c",
       "version_major": 2,
       "version_minor": 0
      },
      "text/plain": [
       "target.spm:   0%|          | 0.00/778k [00:00<?, ?B/s]"
      ]
     },
     "metadata": {},
     "output_type": "display_data"
    },
    {
     "data": {
      "application/vnd.jupyter.widget-view+json": {
       "model_id": "999550869c844b3e89e1a0732c1ee757",
       "version_major": 2,
       "version_minor": 0
      },
      "text/plain": [
       "vocab.json:   0%|          | 0.00/1.34M [00:00<?, ?B/s]"
      ]
     },
     "metadata": {},
     "output_type": "display_data"
    },
    {
     "data": {
      "application/vnd.jupyter.widget-view+json": {
       "model_id": "8fdb98d1a57b4925b2244fe7875a966a",
       "version_major": 2,
       "version_minor": 0
      },
      "text/plain": [
       "config.json:   0%|          | 0.00/1.42k [00:00<?, ?B/s]"
      ]
     },
     "metadata": {},
     "output_type": "display_data"
    },
    {
     "data": {
      "application/vnd.jupyter.widget-view+json": {
       "model_id": "eaaa7b2b4f744507bac7ddb5e0c87596",
       "version_major": 2,
       "version_minor": 0
      },
      "text/plain": [
       "pytorch_model.bin:   0%|          | 0.00/301M [00:00<?, ?B/s]"
      ]
     },
     "metadata": {},
     "output_type": "display_data"
    },
    {
     "data": {
      "application/vnd.jupyter.widget-view+json": {
       "model_id": "a09c29155ecc4d9fbebaa678e2f26ca2",
       "version_major": 2,
       "version_minor": 0
      },
      "text/plain": [
       "generation_config.json:   0%|          | 0.00/293 [00:00<?, ?B/s]"
      ]
     },
     "metadata": {},
     "output_type": "display_data"
    }
   ],
   "source": [
    "from transformers import MarianMTModel, MarianTokenizer\n",
    "import torch\n",
    "\n",
    "def get_translation_pipeline(src_lang, tgt_lang):\n",
    "    model_name = f'Helsinki-NLP/opus-mt-{src_lang}-{tgt_lang}'\n",
    "    tokenizer = MarianTokenizer.from_pretrained(model_name)\n",
    "    model = MarianMTModel.from_pretrained(model_name)\n",
    "    return tokenizer, model\n",
    "\n",
    "def translate(texts, tokenizer, model):\n",
    "    inputs = tokenizer(texts, return_tensors=\"pt\", padding=True, truncation=True, max_length=128)\n",
    "    with torch.no_grad():\n",
    "        translated = model.generate(**inputs)\n",
    "    return [tokenizer.decode(t, skip_special_tokens=True) for t in translated]\n",
    "\n",
    "# Load translation models\n",
    "en_to_fr_tok, en_to_fr_mod = get_translation_pipeline(\"en\", \"fr\")\n",
    "fr_to_en_tok, fr_to_en_mod = get_translation_pipeline(\"fr\", \"en\")\n",
    "\n",
    "# Back-translation function\n",
    "def back_translate_marian(text):\n",
    "    try:\n",
    "        # Step 1: English → French\n",
    "        fr = translate([text], en_to_fr_tok, en_to_fr_mod)[0]\n",
    "        # Step 2: French → English\n",
    "        en = translate([fr], fr_to_en_tok, fr_to_en_mod)[0]\n",
    "        return en\n",
    "    except Exception as e:\n",
    "        print(f\"Translation error: {e}\")\n",
    "        return text\n"
   ]
  },
  {
   "cell_type": "code",
   "execution_count": 195,
   "id": "1a90dcc7-6c34-49b9-93e8-e1c2f951088c",
   "metadata": {},
   "outputs": [],
   "source": [
    "test_sample = test_df.sample(n=200, random_state=42).copy()\n",
    "test_sample[\"CDESCR_noisy\"] = test_sample[\"CDESCR\"].apply(back_translate_marian)\n"
   ]
  },
  {
   "cell_type": "code",
   "execution_count": 197,
   "id": "5a4c3e5e-9ca4-41b2-b7b9-d3765d49f658",
   "metadata": {},
   "outputs": [
    {
     "data": {
      "application/vnd.jupyter.widget-view+json": {
       "model_id": "8b318ac502d24397b9a28405689490d9",
       "version_major": 2,
       "version_minor": 0
      },
      "text/plain": [
       "Map:   0%|          | 0/200 [00:00<?, ? examples/s]"
      ]
     },
     "metadata": {},
     "output_type": "display_data"
    },
    {
     "data": {
      "text/html": [],
      "text/plain": [
       "<IPython.core.display.HTML object>"
      ]
     },
     "metadata": {},
     "output_type": "display_data"
    },
    {
     "name": "stdout",
     "output_type": "stream",
     "text": [
      "              precision    recall  f1-score   support\n",
      "\n",
      "           0       0.71      0.91      0.80        79\n",
      "           1       0.91      0.84      0.87        74\n",
      "           2       1.00      0.31      0.47        13\n",
      "           3       0.75      0.50      0.60        24\n",
      "           4       0.50      0.50      0.50        10\n",
      "\n",
      "    accuracy                           0.78       200\n",
      "   macro avg       0.77      0.61      0.65       200\n",
      "weighted avg       0.80      0.78      0.76       200\n",
      "\n"
     ]
    }
   ],
   "source": [
    "from datasets import Dataset\n",
    "\n",
    "noisy_dataset = Dataset.from_pandas(test_sample[[\"CDESCR_noisy\", \"Category_Label\"]])\n",
    "noisy_dataset = noisy_dataset.rename_column(\"CDESCR_noisy\", \"CDESCR\")\n",
    "noisy_dataset = noisy_dataset.map(tokenize, batched=True)\n",
    "noisy_dataset = noisy_dataset.rename_column(\"Category_Label\", \"labels\")\n",
    "noisy_dataset.set_format(\"torch\", columns=[\"input_ids\", \"attention_mask\", \"labels\"])\n",
    "\n",
    "# Evaluate on noisy samples\n",
    "noisy_preds = trainer.predict(noisy_dataset)\n",
    "noisy_labels = np.argmax(noisy_preds.predictions, axis=1)\n",
    "\n",
    "from sklearn.metrics import classification_report\n",
    "print(classification_report(noisy_preds.label_ids, noisy_labels))\n"
   ]
  },
  {
   "cell_type": "code",
   "execution_count": null,
   "id": "8734d26b-65c7-4691-86ba-2c32f0ac2325",
   "metadata": {},
   "outputs": [],
   "source": []
  }
 ],
 "metadata": {
  "kernelspec": {
   "display_name": "Python [conda env:base] *",
   "language": "python",
   "name": "conda-base-py"
  },
  "language_info": {
   "codemirror_mode": {
    "name": "ipython",
    "version": 3
   },
   "file_extension": ".py",
   "mimetype": "text/x-python",
   "name": "python",
   "nbconvert_exporter": "python",
   "pygments_lexer": "ipython3",
   "version": "3.12.7"
  }
 },
 "nbformat": 4,
 "nbformat_minor": 5
}
